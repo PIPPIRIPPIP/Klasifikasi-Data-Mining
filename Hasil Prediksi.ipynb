{
 "cells": [
  {
   "cell_type": "markdown",
   "id": "a870f5c1",
   "metadata": {},
   "source": [
    "# Tugas Klasifikasi dan Prediksi\n",
    "**Data Mining and Data Warehouse**\n",
    "\n",
    "### Kelompok 3\n",
    "- Ayesha Ali Firdaus (2101990)\n",
    "- Ibnu Adeng Kurnia (2101769)\n",
    "- Ihsan Ghozi Zulfikar (2103303)\n",
    "- M. Fadhillah Nursyawal (2107135)\n",
    "- M. Labib Husain (2101989)"
   ]
  },
  {
   "cell_type": "code",
   "execution_count": 123,
   "id": "a00fe6ce",
   "metadata": {},
   "outputs": [],
   "source": [
    "# Impotr Library\n",
    "%matplotlib inline\n",
    "import numpy as np\n",
    "import joblib\n",
    "import pandas as pd\n",
    "import datetime\n",
    "from datetime import date\n",
    "import pickle\n",
    "from pandas.api.types import CategoricalDtype\n",
    "\n",
    "# Import Data Set\n",
    "df = pd.read_csv(\"C:\\\\Users\\\\AYESHA ALI FIRDAUS\\\\DatMin\\\\orders_class.csv\")"
   ]
  },
  {
   "cell_type": "markdown",
   "id": "5ebcfd18",
   "metadata": {},
   "source": [
    "## ==========Praproses==========="
   ]
  },
  {
   "cell_type": "code",
   "execution_count": 124,
   "id": "7079e75c",
   "metadata": {},
   "outputs": [],
   "source": [
    "# Mengambil struktur data train dan konversi tipe atribut nominal menjadi kategori\n",
    "df_train = pd.read_csv(\"C:\\\\Users\\\\AYESHA ALI FIRDAUS\\\\DatMin\\\\orders_train.csv\")\n",
    "cat_col = [\"salutation\", 'state', 'color', 'size']\n",
    "for col in cat_col: \n",
    "    df_train[col] = df_train[col].astype(\"category\") \n"
   ]
  },
  {
   "cell_type": "code",
   "execution_count": 125,
   "id": "f827ca16",
   "metadata": {},
   "outputs": [],
   "source": [
    "# ================= DF (order_train) ================================\n",
    "# Dibuat null karena tanggal lahir tidak bisa di tebak\n",
    "df.loc[df.dateOfBirth == \"?\", \"dateOfBirth\"] = np.nan\n",
    "df.loc[(df.dateOfBirth == \"1655-04-19\", \"dateOfBirth\")] = np.nan\n",
    "\n",
    "# Ingin mengubah deiveryDate yang anomali menjadi median dari waktu antar \n",
    "df.loc[df.deliveryDate == \"?\", \"deliveryDate\"] = np.nan #-------------- Menjadikan NULL terlebih dahulu data yang \"?\"\n",
    "df.loc[df.deliveryDate < \"2012\", \"deliveryDate\"] = np.nan #------------ Mengubah menjadi NULL data yang kurang dari 2012\n",
    "df['orderDate'] = pd.to_datetime(df['orderDate']) #-------------------- Ubah tipe data menjadi date agar bisa menghitung hari\n",
    "df['deliveryDate'] = pd.to_datetime(df['deliveryDate']) #-------------- Ubah tipe data menjadi date agar bisa menghitung hari\n",
    "df['handling_time'] = df['deliveryDate'] - df['orderDate'] #----------- Menambahkan atribut total hari pengantaran dari data yang tidak anomali {di dapat dari mengurangi tanggal pengiriman dengan tanggal order}\n",
    "df.loc[df.handling_time < \"0 days\", \"handling_time\"] = np.nan #-------- Menjadikan NULL data yang anomali akibat deliveryDate yang anomali {contoh: 1990}\n",
    "df['handling_time'].fillna(df['handling_time'].median(),inplace=True) # Mengisikan handling time yang NULL dengan median\n",
    "df['deliveryDate'] = df['orderDate'] + df['handling_time'] #----------- Semua delivery date yang \"?\" dan kurang dari 2012 ditambahin median dari handling_time\n",
    "\n",
    "# Menambahkan atribut age ke dalam dataset\n",
    "df['dateOfBirth'] = pd.to_datetime(df['dateOfBirth']) #------------------- Mengubah tipe data dateOfBirth menjadi date\n",
    "df['age'] = datetime.datetime(2013, 12, 31, 0, 0, 0) - df['dateOfBirth'] # Menghitung umur dari tahun 2013 akhir dikurangi dengan tanggal lahir\n",
    "df['age'] = df['age'].dt.days #------------------------------------------- Mengubah tipe data date menjadi float64\n",
    "df[\"age\"] = df[\"age\"].astype(\"Int64\") #----------------------------------- Mengubah tipe data float64 menjadi int64\n",
    "df[\"age\"] = df[\"age\"]  / 365 #-------------------------------------------- Mengubah hari menjadi tahun dengan dibagi oleh 365 hari\n",
    "df[\"age\"] = df[\"age\"].astype(\"Int64\") #----------------------------------- Mengubah tipe data float64 menjadi int64 {akibat dari hasil pembagian sebelumnya}\n",
    "df['age'].fillna(df['age'].median(),inplace=True) #----------------------- Mengisikan age yang NULL dengan median dari age\n",
    "\n",
    "# Mengubah tipe data salutation menjadi category\n",
    "df[\"salutation\"] = df[\"salutation\"].astype(\"category\")\n",
    "\n",
    "# Mengubah handling time menjadi int\n",
    "df['handling_time'] = df['handling_time'].dt.days #------------------------------------------- Mengubah tipe data date menjadi float64\n",
    "df[\"handling_time\"] = df[\"handling_time\"].astype(\"Int64\")"
   ]
  },
  {
   "cell_type": "code",
   "execution_count": 126,
   "id": "7df17016",
   "metadata": {},
   "outputs": [],
   "source": [
    "# Mengkonversi data yang akan dites agar sama dengan data train\n",
    "cat_col = [\"salutation\", 'state', 'color', 'size']\n",
    "for col in cat_col: \n",
    "    cat_type = CategoricalDtype(categories=df_train[col].cat.categories)\n",
    "    df[col] = df[col].astype(cat_type)"
   ]
  },
  {
   "cell_type": "code",
   "execution_count": 127,
   "id": "2d6e3a88",
   "metadata": {},
   "outputs": [],
   "source": [
    "# Melakukan drop atribut yang tidak perlu, agar sama dengan data train\n",
    "df_temp = df.drop(['orderItemID', 'dateOfBirth','creationDate', 'orderDate', 'deliveryDate'],axis=1)\n",
    "\n",
    "# Melakukan One-Hot Encoding\n",
    "df_temp = pd.get_dummies(data=df_temp, columns = ['state', 'color', 'size', 'salutation'])"
   ]
  },
  {
   "cell_type": "code",
   "execution_count": 128,
   "id": "bc3f51d9",
   "metadata": {},
   "outputs": [],
   "source": [
    "# Membaca file pickle yang sudah dibuat\n",
    "with open (\"C:\\\\Users\\\\AYESHA ALI FIRDAUS\\\\DatMin\\\\orders_class.pickle\", 'rb') as fp:\n",
    "    X_train_column = list(pickle.load(fp))\n",
    "    \n",
    "df_temp = df_temp[X_train_column]"
   ]
  },
  {
   "cell_type": "code",
   "execution_count": 130,
   "id": "abd9f202",
   "metadata": {},
   "outputs": [],
   "source": [
    "# Mengambil hasil model dari XGBoost sebelumnya\n",
    "clf = joblib.load(\"C:\\\\Users\\\\AYESHA ALI FIRDAUS\\\\DatMin\\\\xgboost_order_class.joblib\")\n",
    "\n",
    "# Melakukan prediksi pada data test\n",
    "df_hasil = pd.DataFrame()\n",
    "df_hasil['orderItemID'] = df['orderItemID']\n",
    "df_hasil['prediction'] = clf.predict(df_temp)\n",
    "\n",
    "# Mengekspor data test\n",
    "df_hasil.to_csv('C:\\\\Users\\\\AYESHA ALI FIRDAUS\\\\DatMin\\\\order_class.txt', sep=';', index=False)"
   ]
  }
 ],
 "metadata": {
  "kernelspec": {
   "display_name": "Python 3 (ipykernel)",
   "language": "python",
   "name": "python3"
  },
  "language_info": {
   "codemirror_mode": {
    "name": "ipython",
    "version": 3
   },
   "file_extension": ".py",
   "mimetype": "text/x-python",
   "name": "python",
   "nbconvert_exporter": "python",
   "pygments_lexer": "ipython3",
   "version": "3.9.12"
  }
 },
 "nbformat": 4,
 "nbformat_minor": 5
}
